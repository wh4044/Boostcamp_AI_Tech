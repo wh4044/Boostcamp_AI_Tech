{
 "cells": [
  {
   "cell_type": "markdown",
   "id": "be39dfc5",
   "metadata": {},
   "source": [
    "# Dataset 클래스\n",
    "- 데이터 입력 형태를 정의하는 클래스이다.\n",
    "- 데이터를 입력하는 방식의 표준화\n",
    "- Image, Text, Audio 등에 따른 다른 입력을 정의한다."
   ]
  },
  {
   "cell_type": "markdown",
   "id": "8d10a1f7",
   "metadata": {},
   "source": [
    "# Dataset 클래스 생성시 유의점\n",
    "- 데이터 형태에 따라 각 함수를 다르게 정의한다.\n",
    "- 모든 것을 데이터 생성 시점에 처리할 필요는 없다.\n",
    ": image의 Tensor변화는 학습에 필요한 시점에 변환\n",
    "- 데이터 셋에 대한 표준화된 처리방법 제공 필요 -> 후속 연구자 또는 동료에게는 빛과 같다.\n",
    "- 최근에는 HuggingFace 등 표준화된 라이브러리 사용"
   ]
  },
  {
   "cell_type": "markdown",
   "id": "57114c96",
   "metadata": {},
   "source": [
    "# DataLoader 클래스\n",
    "- Data의 Batch를 생성해주는 클래스이다.\n",
    "- 학습직전 데이터의 변환을 책임진다.\n",
    "- Tensor로 변환 + Batch 처리가 메인 업무이다.\n",
    "- 병렬적인 데이터 전처리 코드의 고민 필요"
   ]
  },
  {
   "cell_type": "code",
   "execution_count": 8,
   "id": "8422ab79",
   "metadata": {},
   "outputs": [],
   "source": [
    "import torch\n",
    "from torch.utils.data import Dataset, DataLoader\n",
    "\n",
    "class CustomDataset(Dataset):\n",
    "    def __init__(self, text, labels):\n",
    "        self.labels = labels\n",
    "        self.data = text\n",
    "\n",
    "    def __len__(self):\n",
    "        return len(self.labels)\n",
    "\n",
    "    def __getitem__(self, idx):\n",
    "        label = self.labels[idx]\n",
    "        text = self.data[idx]\n",
    "        sample = {\"Text\":text, \"Class\":label}\n",
    "        return sample"
   ]
  },
  {
   "cell_type": "code",
   "execution_count": 9,
   "id": "918eab20",
   "metadata": {},
   "outputs": [
    {
     "data": {
      "text/plain": [
       "[{'Text': 'Happy', 'Class': 'Positive'},\n",
       " {'Text': 'Amazing', 'Class': 'Positive'},\n",
       " {'Text': 'Sad', 'Class': 'Negative'},\n",
       " {'Text': 'Unhappy', 'Class': 'Negative'},\n",
       " {'Text': 'Glum', 'Class': 'Negative'}]"
      ]
     },
     "execution_count": 9,
     "metadata": {},
     "output_type": "execute_result"
    }
   ],
   "source": [
    "text = ['Happy', 'Amazing', 'Sad', 'Unhappy', 'Glum']\n",
    "labels = [\"Positive\",\"Positive\",\"Negative\",\"Negative\",\"Negative\"]\n",
    "MyDataset = CustomDataset(text, labels)\n",
    "\n",
    "list(MyDataset)"
   ]
  },
  {
   "cell_type": "code",
   "execution_count": 10,
   "id": "e8c31f2e",
   "metadata": {},
   "outputs": [
    {
     "data": {
      "text/plain": [
       "[{'Text': ['Amazing', 'Sad'], 'Class': ['Positive', 'Negative']},\n",
       " {'Text': ['Happy', 'Unhappy'], 'Class': ['Positive', 'Negative']},\n",
       " {'Text': ['Glum'], 'Class': ['Negative']}]"
      ]
     },
     "execution_count": 10,
     "metadata": {},
     "output_type": "execute_result"
    }
   ],
   "source": [
    "MyDataLoader = DataLoader(MyDataset, batch_size=2, shuffle = True)\n",
    "list(MyDataLoader)"
   ]
  },
  {
   "cell_type": "code",
   "execution_count": null,
   "id": "0fc01bf2",
   "metadata": {},
   "outputs": [],
   "source": []
  }
 ],
 "metadata": {
  "kernelspec": {
   "display_name": "Python 3 (ipykernel)",
   "language": "python",
   "name": "python3"
  },
  "language_info": {
   "codemirror_mode": {
    "name": "ipython",
    "version": 3
   },
   "file_extension": ".py",
   "mimetype": "text/x-python",
   "name": "python",
   "nbconvert_exporter": "python",
   "pygments_lexer": "ipython3",
   "version": "3.8.12"
  }
 },
 "nbformat": 4,
 "nbformat_minor": 5
}
