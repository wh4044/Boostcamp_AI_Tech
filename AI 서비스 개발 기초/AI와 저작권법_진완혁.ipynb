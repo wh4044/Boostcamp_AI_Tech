{
 "cells": [
  {
   "cell_type": "markdown",
   "id": "75f3c339",
   "metadata": {},
   "source": [
    "# 내가 만든 AI 모델은 합법일까? 불법일까?\n",
    "그냥 웹에 있는 데이터 크롤링해서 학습에 쓰면 안 된다!\n",
    "\n",
    "\n",
    "**좋은 AI 모델은 좋은 데이터로부터 나온다**\n",
    "- 새롭게 데이터를 제작할 때, 저작권을 고려하지 않으면 합법적으로 사용할 수 없게 된다.\n",
    "- 합법적이지 않은 데이터로 학습한 모델 또한 완전한 합법의 영역에 있다고 보기 어렵다.\n",
    "\n",
    "**학계에서도 점점 저작권과 라이센스에 대해 주목하고 있다.**\n",
    "\n",
    "**또한 아직 저작권법은 AI 모델 개발을 고려하지 않은 부분이 많다.**\n",
    "- AI 분야 저작권 면책조항이 신설된 저작권법 개정안이 추진되고 있다.\n",
    "- AI와 창작자 모두를 고려한 좋은 방햫의 법 개정을 위해 관심을 가져야 한다."
   ]
  },
  {
   "cell_type": "markdown",
   "id": "be0b5592",
   "metadata": {},
   "source": [
    "## '저작권'이란?\n",
    "- 사람의 생각이나 감정을 표현한 결과물(저작물)에 대하여 창작자에게 주는 권리로 \"창작성\"이 있다면 별도의 등록절차없이 자연히 발생한다.\n",
    "\n",
    "- **저작물** => 사람의 생각이나 감정을 표현한 결과물을 말한다."
   ]
  },
  {
   "cell_type": "markdown",
   "id": "c4230ed1",
   "metadata": {},
   "source": [
    " "
   ]
  },
  {
   "cell_type": "markdown",
   "id": "f8c63ef6",
   "metadata": {},
   "source": [
    "## 합법적으로 데이터 사용하기\n",
    "\n",
    "**창작성이 인정되는 저작물에 저작권이 자연발생한다면 어떻게 데이터를 합법적으로 쓸 수 있을까?**\n",
    "- **1. 저작자와 협의한다.**\n",
    "    - 저작권자를 알 때는 교섭하여 협의\n",
    "    - 저작물 이용의 허락 받기, 저작재작권을 양수받는 것 등 다양한 방법이 있다.\n",
    "    - **독점적** 이용 허락 : A사의 데이터로 B사와 계약하면 A사는 다른 회사와 같은 **계약 불가능**\n",
    "    - **비독점적** 이용 허락 : A사의 데이터로 B사와 계약해도 A사는 다른 회사와 같은 **계약 가능**\n",
    "    - 저작재산권은 양도$\\cdot$양수할 수 있다. **전부** 또는 **일부**를 양도$\\cdot$양수 할 수 있다."
   ]
  },
  {
   "cell_type": "markdown",
   "id": "d848f0f3",
   "metadata": {},
   "source": [
    " "
   ]
  },
  {
   "cell_type": "markdown",
   "id": "a1761f8d",
   "metadata": {},
   "source": [
    "**일일이 계약을 맺고 사용하게 하는 방식은 저작자와 이용자 모두에게 비효율 적이다.**\n",
    "=> \"라이센스\"는 효율적이다.\n",
    "\n",
    "- **2. 라이센스**\n",
    "    - 따로 허가 요청을 하지 않아도 특정 조건을 만족하면 이용 가능한 **이용허락 규약**이다.\n",
    "    - 라이센스 발행 단체\n",
    "        - Creative Commons 비영리 단체에서 제공하는 **CCL**\n",
    "        - 문화체육관광부 **공공누리**"
   ]
  },
  {
   "cell_type": "markdown",
   "id": "9f60930e",
   "metadata": {},
   "source": [
    "### Creative Commons License (CCL)\n",
    "- 종류\n",
    "    - BY : Attribution => 저작자 표시 해야함.\n",
    "    \n",
    "    - ND : NoDerivatives => 변경할 수 없음.\n",
    "    \n",
    "    - NC : NonCommerical => 비영리 목적으로만 활용해야함\n",
    "    \n",
    "    - SA : ShareAlike => 동일조건으로 변경 허락함.\n",
    "    \n",
    "ex) CC-BY-NC-SA => 나무위키"
   ]
  },
  {
   "cell_type": "markdown",
   "id": "e2a75d60",
   "metadata": {},
   "source": [
    "## 뉴스 데이터 이용\n",
    "**뉴스 기사를 합법적으로 사용하려면**\n",
    "- 해당 언론사가 한국언론진흥재단에 저작권 위탁을 맡겼을 때 => 한국언론진흥재단에 문의\n",
    "\n",
    "- 또는 직접 언론사에 문의\n",
    "\n",
    "- 드물게 CCL이 적용된 언론사의 뉴스 기사 사용(위키트리)"
   ]
  },
  {
   "cell_type": "markdown",
   "id": "bb38ebee",
   "metadata": {},
   "source": [
    "## 공정 이용(Fair-use)\n",
    "**아래의 경우에 대해서는 저작권자의 허락을 받지 않고도 저작물을 이용할 수 있다.**\n",
    "1. 일정한 조건하에서는 저작권자의 허락을 받지 않고도 저작물을 이용할 수 있는 경우\n",
    "2. 재판절차 등에서의 복제\n",
    "3. 정치적 연설 등의 이용\n",
    "4. 학교 교육 목적 등에의 이용\n",
    "5. 시사 보도를 위한 이용\n",
    "6. 공표된 저작물의 이용\n",
    "7. 영리를 목적으로 하지 않은 공연ㆍ방송\n",
    "8. 사적 이용을 위한 복제\n",
    "9. 도서관 등에서의 복제\n",
    "10. 시험 문제로서의 복제\n",
    "11. 시각장애인 등을 위한 복제\n",
    "12. 방송사업가의 일시적 녹음ㆍ녹화\n",
    "13. 미술ㆍ사진ㆍ건축저작물의 전시 또는 복제\n",
    "14. 번역 등에 의한 이용\n",
    "15. 시사적인 기사 및 논설의 복제\n",
    "16. 프로그램 코드 역분석\n",
    "17. 정당한 이용자에 의한 보존을 위한 프로그램 복제\n",
    "\n",
    "[한국저작권위원회](https://www.copyright.or.kr/education/educlass/learning/what-the-copyright/definition/index06.do)"
   ]
  }
 ],
 "metadata": {
  "hide_input": false,
  "kernelspec": {
   "display_name": "Python 3 (ipykernel)",
   "language": "python",
   "name": "python3"
  },
  "language_info": {
   "codemirror_mode": {
    "name": "ipython",
    "version": 3
   },
   "file_extension": ".py",
   "mimetype": "text/x-python",
   "name": "python",
   "nbconvert_exporter": "python",
   "pygments_lexer": "ipython3",
   "version": "3.8.12"
  },
  "toc": {
   "base_numbering": 1,
   "nav_menu": {},
   "number_sections": true,
   "sideBar": true,
   "skip_h1_title": false,
   "title_cell": "Table of Contents",
   "title_sidebar": "Contents",
   "toc_cell": false,
   "toc_position": {},
   "toc_section_display": true,
   "toc_window_display": true
  },
  "varInspector": {
   "cols": {
    "lenName": 16,
    "lenType": 16,
    "lenVar": 40
   },
   "kernels_config": {
    "python": {
     "delete_cmd_postfix": "",
     "delete_cmd_prefix": "del ",
     "library": "var_list.py",
     "varRefreshCmd": "print(var_dic_list())"
    },
    "r": {
     "delete_cmd_postfix": ") ",
     "delete_cmd_prefix": "rm(",
     "library": "var_list.r",
     "varRefreshCmd": "cat(var_dic_list()) "
    }
   },
   "types_to_exclude": [
    "module",
    "function",
    "builtin_function_or_method",
    "instance",
    "_Feature"
   ],
   "window_display": false
  }
 },
 "nbformat": 4,
 "nbformat_minor": 5
}
